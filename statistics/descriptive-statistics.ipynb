{
 "cells": [
  {
   "cell_type": "markdown",
   "metadata": {},
   "source": [
    "# Descriptive Statistics Review\n",
    "\n",
    "A practical study guide to visualize the concepts covered in the videos from [Descriptive Statistics](https://youtube.com/playlist?list=PLTNMv857s9WVStKLco6ZBOsfSGXzJ1L0f) playlist by [@zedstatistics](https://www.youtube.com/@zedstatistics) on YouTube. \n",
    "\n",
    "Other interesting overview on this topic: [Descriptive statistics and data visualisation. An introduction to statistics and working with data](https://youtu.be/txNvZ3Zndak) by [@gregmartin](https://www.youtube.com/@gregmartin).  \n",
    "\n",
    "Topics: \n",
    "- Central tendency\n",
    "- Dispersion\n",
    "- Skewness\n",
    "- Kurtosis \n",
    "- Standard Error\n",
    "- Moments\n",
    "- Covariance\n",
    "- Correlation "
   ]
  },
  {
   "cell_type": "markdown",
   "metadata": {},
   "source": [
    "## Central tendency measures\n",
    "### Mean\n",
    "### Median\n",
    "### Mode\n",
    "\n",
    "## Dispersion measures\n",
    "### Min, Max, Range\n",
    "### Quantiles, inter-quartile range (IQR)\n",
    "### Box and wisker plot\n",
    "### Variance and Standard deviation\n",
    "### Coefficient of Variation \n",
    "\n",
    "## Skewness\n",
    "## Kurtosis \n",
    "## Standard Error\n",
    "## Moments\n",
    "## Covariance\n",
    "## Correlation \n"
   ]
  },
  {
   "cell_type": "code",
   "execution_count": null,
   "metadata": {},
   "outputs": [],
   "source": []
  }
 ],
 "metadata": {
  "kernelspec": {
   "display_name": "py37",
   "language": "python",
   "name": "py37"
  },
  "language_info": {
   "codemirror_mode": {
    "name": "ipython",
    "version": 3
   },
   "file_extension": ".py",
   "mimetype": "text/x-python",
   "name": "python",
   "nbconvert_exporter": "python",
   "pygments_lexer": "ipython3",
   "version": "3.7.9"
  }
 },
 "nbformat": 4,
 "nbformat_minor": 4
}
